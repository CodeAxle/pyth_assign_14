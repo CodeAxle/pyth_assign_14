{
 "cells": [
  {
   "cell_type": "markdown",
   "id": "1e2a896b",
   "metadata": {},
   "source": [
    "# 1."
   ]
  },
  {
   "cell_type": "code",
   "execution_count": 1,
   "id": "8f496bba",
   "metadata": {},
   "outputs": [],
   "source": [
    "# i) RGBA stands for Red, Green, Blue, and Alpha.\n",
    "# ii) It is a color model used in digital graphics and computer vision systems to represent colors and their transparency levels.\n",
    "# iii) Each component in RGBA corresponds to the intensity of the Red, Green, and Blue colors, and the Alpha channel \n",
    "#  controls the transparency or opacity of the color.\n",
    "# iv) The values for each component typically range from 0 to 255 (in most image formats) or from 0.0 to 1.0 \n",
    "#  (in some software libraries and systems)."
   ]
  },
  {
   "cell_type": "markdown",
   "id": "606273a9",
   "metadata": {},
   "source": [
    "# 2."
   ]
  },
  {
   "cell_type": "code",
   "execution_count": 2,
   "id": "dd6f0bc9",
   "metadata": {},
   "outputs": [
    {
     "name": "stdout",
     "output_type": "stream",
     "text": [
      "(70, 192, 215, 255)\n"
     ]
    }
   ],
   "source": [
    "# Installing pillow:\n",
    "# CMD: pip install Pillow\n",
    "\n",
    "from PIL import Image\n",
    "# Open the image\n",
    "image = Image.open('img.PNG')  # Replace 'your_image.jpg' with the path to your image file\n",
    "\n",
    "# We can use the getpixel() method to retrieve the RGBA values at a specified (x, y) coordinate:\n",
    "# Get the RGBA value at pixel (x, y)\n",
    "x = 100  # Example x-coordinate\n",
    "y = 200  # Example y-coordinate\n",
    "rgba_value = image.getpixel((x, y))\n",
    "print(rgba_value)"
   ]
  },
  {
   "cell_type": "markdown",
   "id": "cb70cec0",
   "metadata": {},
   "source": [
    "# 3."
   ]
  },
  {
   "cell_type": "code",
   "execution_count": 3,
   "id": "955fabfd",
   "metadata": {},
   "outputs": [],
   "source": [
    "# A box tuple in the context of image processing and computer graphics refers to a tuple that defines a rectangular region \n",
    "# or box within an image. The box tuple typically consists of four integer values in the format (left, top, right, bottom).\n",
    "\n",
    "# Here's what each component of the box tuple represents:\n",
    "\n",
    "# a) left: The x-coordinate of the left edge of the box.\n",
    "# b) top: The y-coordinate of the top edge of the box.\n",
    "# c) right: The x-coordinate of the right edge of the box.\n",
    "# d) bottom: The y-coordinate of the bottom edge of the box.\n",
    "    \n",
    "# The box tuple defines a rectangular area within an image by specifying the coordinates of its four edges. \n",
    "# This format is commonly used in image processing libraries like Pillow (Python Imaging Library) and OpenCV to \n",
    "# specify regions of interest (ROIs) or areas for various operations such as cropping, drawing shapes, or extracting \n",
    "# image patches.\n",
    "\n",
    "# example:\n",
    "from PIL import Image\n",
    "\n",
    "# Open the image\n",
    "image = Image.open('img.PNG')\n",
    "\n",
    "# Define the box tuple (left, top, right, bottom)\n",
    "box = (100, 100, 200, 200)\n",
    "\n",
    "# Crop the image using the box tuple\n",
    "cropped_image = image.crop(box)\n",
    "\n",
    "# Show or save the cropped image\n",
    "cropped_image.show()  # Show the cropped image\n",
    "cropped_image.save('cropped_image.PNG')  # Save the cropped image to a file"
   ]
  },
  {
   "cell_type": "markdown",
   "id": "5feb45d1",
   "metadata": {},
   "source": [
    "# 4."
   ]
  },
  {
   "cell_type": "code",
   "execution_count": 6,
   "id": "1e15c338",
   "metadata": {},
   "outputs": [
    {
     "name": "stdout",
     "output_type": "stream",
     "text": [
      "Size (width, height): (635, 885)\n",
      "Width: 635\n",
      "Height: 885\n"
     ]
    }
   ],
   "source": [
    "# To find out the width and height of an Image object in Python using the Pillow library (PIL), you can use the size \n",
    "#  attribute or the width and height attributes. \n",
    "    \n",
    "#EXAMPLE:\n",
    "from PIL import Image\n",
    "# Open the image\n",
    "image = Image.open('img.PNG')\n",
    "\n",
    "# Get the size of the image using the size attribute\n",
    "image_size = image.size\n",
    "print('Size (width, height):', image_size)\n",
    "\n",
    "# Alternatively, you can use the width and height attributes\n",
    "image_width = image.width\n",
    "image_height = image.height\n",
    "print('Width:', image_width)\n",
    "print('Height:', image_height)"
   ]
  },
  {
   "cell_type": "markdown",
   "id": "fcfacd5d",
   "metadata": {},
   "source": [
    "# 5."
   ]
  },
  {
   "cell_type": "code",
   "execution_count": 9,
   "id": "fdd1193d",
   "metadata": {},
   "outputs": [],
   "source": [
    "# To get an Image object for a 100x100 image, excluding the lower-left quarter of it, we can use the crop() method from \n",
    "#  the Pillow (PIL) library. \n",
    "    \n",
    "# example:\n",
    "from PIL import Image\n",
    "\n",
    "# Open the original image\n",
    "original_image = Image.open('img.PNG')\n",
    "\n",
    "# Define the coordinates for the crop region (upper-left and lower-right)\n",
    "left = 0\n",
    "upper = 0\n",
    "right = 50  # 100/2, since we want to exclude the lower-left quarter\n",
    "lower = 50  # 100/2, since we want to exclude the lower-left quarter\n",
    "\n",
    "# Crop the image using the defined coordinates\n",
    "cropped_image = original_image.crop((left, upper, right, lower))\n",
    "\n",
    "# Display the cropped image (optional, for visualization)\n",
    "cropped_image.show()\n",
    "\n",
    "# Save the cropped image to a file\n",
    "cropped_image.save('cropped_image.PNG')\n",
    "\n",
    "# Close the original image and cropped image\n",
    "original_image.close()\n",
    "cropped_image.close()"
   ]
  },
  {
   "cell_type": "markdown",
   "id": "2ad30a0d",
   "metadata": {},
   "source": [
    "# 6."
   ]
  },
  {
   "cell_type": "code",
   "execution_count": 11,
   "id": "33d23457",
   "metadata": {},
   "outputs": [],
   "source": [
    "# To save changes made to an Image object as an image file, we can use the save() method provided by the Pillow library.\n",
    "\n",
    "# example:\n",
    "from PIL import Image\n",
    "\n",
    "# Open an image file\n",
    "img = Image.open('img.PNG')\n",
    "\n",
    "# Make changes to the image, for example, resize it\n",
    "new_img = img.resize((300, 300))\n",
    "\n",
    "# Save the modified image to a new file\n",
    "new_img.save('modified_example.PNG')"
   ]
  },
  {
   "cell_type": "markdown",
   "id": "8cc0558e",
   "metadata": {},
   "source": [
    "# 7."
   ]
  },
  {
   "cell_type": "code",
   "execution_count": 12,
   "id": "ae0fbf9b",
   "metadata": {},
   "outputs": [],
   "source": [
    "# a) The module that contains Pillow's shape-drawing code is called ImageDraw. \n",
    "# b) It is a part of the Python Imaging Library (PIL) or its fork, Pillow, which provides tools to draw various shapes\n",
    "#  and text onto images. \n",
    "# c) We can use ImageDraw to create and manipulate images with shapes like lines, rectangles, ellipses, and polygons."
   ]
  },
  {
   "cell_type": "markdown",
   "id": "8dacad98",
   "metadata": {},
   "source": [
    "# 8."
   ]
  },
  {
   "cell_type": "code",
   "execution_count": null,
   "id": "e30d10bc",
   "metadata": {},
   "outputs": [],
   "source": [
    "# The object that has drawing methods is ImageDraw. Draw from the Pillow module, not the Image object itself.\n",
    "# We get this kind of object by creating an instance of ImageDraw.Draw and passing it the Image object you want to draw on.\n",
    "\n",
    "#example:\n"
   ]
  }
 ],
 "metadata": {
  "kernelspec": {
   "display_name": "Python 3 (ipykernel)",
   "language": "python",
   "name": "python3"
  },
  "language_info": {
   "codemirror_mode": {
    "name": "ipython",
    "version": 3
   },
   "file_extension": ".py",
   "mimetype": "text/x-python",
   "name": "python",
   "nbconvert_exporter": "python",
   "pygments_lexer": "ipython3",
   "version": "3.11.5"
  }
 },
 "nbformat": 4,
 "nbformat_minor": 5
}
